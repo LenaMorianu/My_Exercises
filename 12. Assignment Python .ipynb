{
 "cells": [
  {
   "cell_type": "markdown",
   "metadata": {},
   "source": [
    "### 1. Escribe una secuencia de instrucciones que permitan leer un número real por pantalla y que muestre si el número es positivo o no."
   ]
  },
  {
   "cell_type": "code",
   "execution_count": 1,
   "metadata": {},
   "outputs": [
    {
     "name": "stdout",
     "output_type": "stream",
     "text": [
      "Escribe un número: 5\n",
      "El número escrito es positivo\n"
     ]
    }
   ],
   "source": [
    "x = float(input(\"Escribe un número: \"))\n",
    "\n",
    "if x>= 0:\n",
    "    print(\"El número escrito es positivo\")\n",
    "else:\n",
    "    print(\"El número escrito es negativo\")"
   ]
  },
  {
   "cell_type": "markdown",
   "metadata": {},
   "source": [
    "### 2. Escribe una secuencia de instrucciones que permitan leer un número real por pantalla y que muestre si el número está en el rango entre -5 y 5"
   ]
  },
  {
   "cell_type": "code",
   "execution_count": 2,
   "metadata": {},
   "outputs": [
    {
     "name": "stdout",
     "output_type": "stream",
     "text": [
      "Escribe un número: 9\n",
      "El número escrito no está en el rango [-5 , 5] \n"
     ]
    }
   ],
   "source": [
    "y = float(input(\"Escribe un número: \"))\n",
    "\n",
    "if y>= -5 and y<= 5:\n",
    "    print(\"El número escrito está en el rango [-5 , 5] \")\n",
    "else:\n",
    "    print(\"El número escrito no está en el rango [-5 , 5] \")"
   ]
  },
  {
   "cell_type": "markdown",
   "metadata": {},
   "source": [
    "### 3. Escribe una secuencia de instrucciones que permitan leer las coordenadas de un punto (x, y) e indique en cuál de los cuatro cuadrantes se encuentra dicho punto."
   ]
  },
  {
   "cell_type": "code",
   "execution_count": 3,
   "metadata": {},
   "outputs": [
    {
     "name": "stdout",
     "output_type": "stream",
     "text": [
      "Escribe la coordenada X del punto: 6\n",
      "Escribe la coordenada Y del punto: -7\n",
      "El punto se encuentra en el cuarto cuadrante\n"
     ]
    }
   ],
   "source": [
    "x1 = float(input(\"Escribe la coordenada X del punto: \"))\n",
    "y1 = float(input(\"Escribe la coordenada Y del punto: \"))\n",
    "\n",
    "\n",
    "if (x1>0 and y1>0):\n",
    "    print(\"El punto se encuentra en el primer cuadrante\")\n",
    "elif (x1<0 and y1>0):\n",
    "        print(\"El punto se encuentra en el segundo cuadrante\")\n",
    "elif (x1<0 and y1<0):\n",
    "        print(\"El punto se encuentra en el tercer cuadrante\")\n",
    "elif (x1>0 and y1<0):\n",
    "        print(\"El punto se encuentra en el cuarto cuadrante\")\n",
    "        \n",
    "elif (x1>0 and y1==0):\n",
    "    print(\"El punto se encuentra en el eje X, entre el cuadrante 1 y 4\")\n",
    "elif (x1==0 and y1>0):\n",
    "    print(\"El punto se encuentra en el eje y, entre el cuadrante 1 y 2\")\n",
    "elif (x1<0 and y1==0):\n",
    "    print(\"El punto se encuentra en el eje X, entre el cuadrante 2 y 3\")\n",
    "elif (x1==0 and y1<0):\n",
    "    print(\"El punto se encuentra en el eje Y, entre el cuadrante 3 y 4\")\n",
    "\n",
    "else:\n",
    "    print(\"El punto se encuentra en el origen\")\n"
   ]
  },
  {
   "cell_type": "markdown",
   "metadata": {},
   "source": [
    "### 4. Escribe una secuencia de instrucciones que permitan leer dos números enteros y muestre el cociente de la división entera y el resto."
   ]
  },
  {
   "cell_type": "code",
   "execution_count": 4,
   "metadata": {},
   "outputs": [
    {
     "name": "stdout",
     "output_type": "stream",
     "text": [
      "Escribe el primer número entero: 9\n",
      "Escribe el segundo número entero: 3\n",
      "El cociente de la divisón entera 9 / 3  es:  3\n",
      "El cociente de la divisón entera  3 / 9  es:  0\n",
      "El resto de la división entera  9 / 3  es:  0.0\n",
      "El resto de la división entera  3 / 9  es:  3.0\n"
     ]
    }
   ],
   "source": [
    "import math\n",
    "\n",
    "a = int(input(\"Escribe el primer número entero: \"))\n",
    "b = int(input(\"Escribe el segundo número entero: \"))\n",
    "\n",
    "def division(a,b):\n",
    "    if a==b:\n",
    "        print(\"El cociente de la divisón entera \", +b, \"/\", +a, \" es: \", b//a)\n",
    "        print(\"El resto de la división entera \" ,+a, \"/\", +b, \" es: \", math.fmod(a,b))\n",
    "        return\n",
    "    else:    \n",
    "        print(\"El cociente de la divisón entera\", +a, \"/\", +b, \" es: \", a//b)\n",
    "        print(\"El cociente de la divisón entera \", +b, \"/\", +a, \" es: \", b//a)\n",
    "        print(\"El resto de la división entera \" ,+a, \"/\", +b, \" es: \", math.fmod(a,b))\n",
    "        print(\"El resto de la división entera \", +b, \"/\", +a, \" es: \", math.fmod(b,a))\n",
    "        return\n",
    "    \n",
    "division(a,b)"
   ]
  },
  {
   "cell_type": "markdown",
   "metadata": {},
   "source": [
    "### 5. Escribe una secuencia de instrucciones que permitan leer un número entero es cuadrado perfecto o no (piensa la mejor forma de hacerlo con lo que has aprendido hasta ahora)"
   ]
  },
  {
   "cell_type": "code",
   "execution_count": 9,
   "metadata": {},
   "outputs": [
    {
     "name": "stdout",
     "output_type": "stream",
     "text": [
      "Escribe un número entero: 144\n",
      "El número es un cuadrado perfecto\n"
     ]
    }
   ],
   "source": [
    "import math\n",
    "x2 = int(input(\"Escribe un número entero: \"))\n",
    "y2 = math.modf(math.sqrt(x2))\n",
    "\n",
    "if y2[0] == 0:\n",
    "    print(\"El número es un cuadrado perfecto\")\n",
    "else:\n",
    "    print(\"El número no es un cuadrado perfecto\")"
   ]
  },
  {
   "cell_type": "markdown",
   "metadata": {},
   "source": [
    "### 6. Escribe una expresión que permita determinar si un número entero positivo puede corresponder a un año bisiesto o no. Se consideran años bisiestos aquellos cuyo número es divisible por cuatro excepto los años que son múltiplos de 100, a no ser que lo sean de 400 (por ejemplo el año 2000 fue bisiesto pero el 2100 no lo será)."
   ]
  },
  {
   "cell_type": "code",
   "execution_count": 12,
   "metadata": {},
   "outputs": [
    {
     "name": "stdout",
     "output_type": "stream",
     "text": [
      "Introduce un año: 2008\n",
      "El años es bisiesto\n"
     ]
    }
   ],
   "source": [
    "import math\n",
    "x3 = int(input(\"Introduce un año: \"))\n",
    "\n",
    "if x3>0:\n",
    "    if (math.fmod(x3,400)==0):\n",
    "        print(\"El año es bisiesto\")\n",
    "    elif math.fmod(x3,100)==0:\n",
    "        print(\"El año no es bisiesto\")\n",
    "    elif math.fmod(x3,4)==0:\n",
    "        print(\"El años es bisiesto\")\n",
    "    else:\n",
    "        print(\"El año no es bisiesto\")\n",
    "    \n",
    "else: \n",
    "    print(\"Introduce por favor un número positivo\")"
   ]
  },
  {
   "cell_type": "markdown",
   "metadata": {},
   "source": [
    "### 7. Busca la imagen de un tablero de ajedrez en Google y fíjate en la nomenclatura de las casillas. Escribe una expresión lea una letra y un número de teclado correspondiente a una casilla de un tablero de ajedrez y nos indique si esta casilla es negra o blanca."
   ]
  },
  {
   "cell_type": "code",
   "execution_count": 16,
   "metadata": {},
   "outputs": [
    {
     "name": "stdout",
     "output_type": "stream",
     "text": [
      "Escribe una letra de una casilla de ajedrez, de A a la H: a\n",
      "Escribe un número de una casilla de ajedrez, de 1 a 8: 1\n",
      "La casilla es de color negro\n"
     ]
    }
   ],
   "source": [
    "letra = input(\"Escribe una letra de una casilla de ajedrez, de A a la H: \")\n",
    "numero = int(input(\"Escribe un número de una casilla de ajedrez, de 1 a 8: \"))\n",
    "\n",
    "import math\n",
    "letras_casillas = [\"A\",\"B\",\"C\",\"D\",\"E\",\"F\",\"G\",\"H\",\"a\",\"b\",\"c\",\"d\",\"e\",\"f\",\"g\",\"h\"]\n",
    "\n",
    "\n",
    "if letra in letras_casillas and numero in range(9):\n",
    "    if (letra in [\"A\",\"C\",\"E\",\"G\",\"a\",\"c\",\"e\",\"g\"]):\n",
    "        if math.fmod(numero,2) != 0:\n",
    "            print(\"La casilla es de color negro\")\n",
    "        else: \n",
    "            print(\"La casilla es de color blanco\")\n",
    "                \n",
    "    elif math.fmod(numero,2) != 0:\n",
    "        print(\"La casilla es de color blanco\")\n",
    "            \n",
    "    else:\n",
    "        print(\"La casilla es de color negro\")\n",
    "else: \n",
    "    print(\"Los datos introducidos no corresponden a una casilla de ajedrez. Verifique la letra o el número de casilla.\")\n",
    "    "
   ]
  },
  {
   "cell_type": "code",
   "execution_count": null,
   "metadata": {},
   "outputs": [],
   "source": []
  }
 ],
 "metadata": {
  "kernelspec": {
   "display_name": "Python 3",
   "language": "python",
   "name": "python3"
  },
  "language_info": {
   "codemirror_mode": {
    "name": "ipython",
    "version": 3
   },
   "file_extension": ".py",
   "mimetype": "text/x-python",
   "name": "python",
   "nbconvert_exporter": "python",
   "pygments_lexer": "ipython3",
   "version": "3.7.6"
  }
 },
 "nbformat": 4,
 "nbformat_minor": 4
}
