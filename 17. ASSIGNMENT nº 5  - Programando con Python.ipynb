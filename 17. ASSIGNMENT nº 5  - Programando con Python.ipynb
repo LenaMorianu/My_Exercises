{
 "cells": [
  {
   "cell_type": "markdown",
   "metadata": {},
   "source": [
    "### Responde a las preguntas incorporando el codigo en Python que demuestre que lo has practicado correctamente"
   ]
  },
  {
   "cell_type": "markdown",
   "metadata": {},
   "source": [
    "**1. Crea una función que reciba los tres coeficientes a, b y c para resolver una ecuación de segundo grado. Muestra la solución por pantalla y ayúdate de la librería Math para acceder a la función raíz cuadrada.**"
   ]
  },
  {
   "cell_type": "code",
   "execution_count": 4,
   "metadata": {},
   "outputs": [],
   "source": [
    "import math"
   ]
  },
  {
   "cell_type": "code",
   "execution_count": 8,
   "metadata": {},
   "outputs": [
    {
     "ename": "ValueError",
     "evalue": "math domain error",
     "output_type": "error",
     "traceback": [
      "\u001b[1;31m---------------------------------------------------------------------------\u001b[0m",
      "\u001b[1;31mValueError\u001b[0m                                Traceback (most recent call last)",
      "\u001b[1;32m<ipython-input-8-0d7720fa0bca>\u001b[0m in \u001b[0;36m<module>\u001b[1;34m\u001b[0m\n\u001b[0;32m      4\u001b[0m     \u001b[0mprint\u001b[0m\u001b[1;33m(\u001b[0m\u001b[1;34m\"Las posibles soluciones de la ecuación de segundo grado son x1 = %.3f\"\u001b[0m\u001b[1;33m%\u001b[0m\u001b[0mx1\u001b[0m \u001b[1;33m,\u001b[0m\u001b[1;34m\"y x2 = %.3f \"\u001b[0m\u001b[1;33m%\u001b[0m\u001b[0mx2\u001b[0m\u001b[1;33m)\u001b[0m\u001b[1;33m\u001b[0m\u001b[1;33m\u001b[0m\u001b[0m\n\u001b[0;32m      5\u001b[0m \u001b[1;33m\u001b[0m\u001b[0m\n\u001b[1;32m----> 6\u001b[1;33m \u001b[0mecuacion_segundo_grado\u001b[0m\u001b[1;33m(\u001b[0m\u001b[1;36m4\u001b[0m\u001b[1;33m,\u001b[0m\u001b[1;36m2\u001b[0m\u001b[1;33m,\u001b[0m\u001b[1;36m1\u001b[0m\u001b[1;33m)\u001b[0m\u001b[1;33m\u001b[0m\u001b[1;33m\u001b[0m\u001b[0m\n\u001b[0m",
      "\u001b[1;32m<ipython-input-8-0d7720fa0bca>\u001b[0m in \u001b[0;36mecuacion_segundo_grado\u001b[1;34m(a, b, c)\u001b[0m\n\u001b[0;32m      1\u001b[0m \u001b[1;32mdef\u001b[0m \u001b[0mecuacion_segundo_grado\u001b[0m\u001b[1;33m(\u001b[0m\u001b[0ma\u001b[0m\u001b[1;33m,\u001b[0m\u001b[0mb\u001b[0m\u001b[1;33m,\u001b[0m\u001b[0mc\u001b[0m\u001b[1;33m)\u001b[0m\u001b[1;33m:\u001b[0m\u001b[1;33m\u001b[0m\u001b[1;33m\u001b[0m\u001b[0m\n\u001b[1;32m----> 2\u001b[1;33m     \u001b[0mx1\u001b[0m \u001b[1;33m=\u001b[0m \u001b[0mfloat\u001b[0m\u001b[1;33m(\u001b[0m\u001b[1;33m(\u001b[0m\u001b[1;33m-\u001b[0m\u001b[0mb\u001b[0m\u001b[1;33m+\u001b[0m\u001b[0mmath\u001b[0m\u001b[1;33m.\u001b[0m\u001b[0msqrt\u001b[0m\u001b[1;33m(\u001b[0m\u001b[0mb\u001b[0m\u001b[1;33m**\u001b[0m\u001b[1;36m2\u001b[0m\u001b[1;33m-\u001b[0m\u001b[1;36m4\u001b[0m\u001b[1;33m*\u001b[0m\u001b[0ma\u001b[0m\u001b[1;33m*\u001b[0m\u001b[0mc\u001b[0m\u001b[1;33m)\u001b[0m\u001b[1;33m)\u001b[0m\u001b[1;33m/\u001b[0m\u001b[1;33m(\u001b[0m\u001b[1;36m2\u001b[0m\u001b[1;33m*\u001b[0m\u001b[0ma\u001b[0m\u001b[1;33m)\u001b[0m\u001b[1;33m)\u001b[0m\u001b[1;33m,\u001b[0m\u001b[1;33m\u001b[0m\u001b[1;33m\u001b[0m\u001b[0m\n\u001b[0m\u001b[0;32m      3\u001b[0m     \u001b[0mx2\u001b[0m \u001b[1;33m=\u001b[0m \u001b[0mfloat\u001b[0m\u001b[1;33m(\u001b[0m\u001b[1;33m(\u001b[0m\u001b[1;33m-\u001b[0m\u001b[0mb\u001b[0m\u001b[1;33m-\u001b[0m\u001b[0mmath\u001b[0m\u001b[1;33m.\u001b[0m\u001b[0msqrt\u001b[0m\u001b[1;33m(\u001b[0m\u001b[0mb\u001b[0m\u001b[1;33m**\u001b[0m\u001b[1;36m2\u001b[0m\u001b[1;33m-\u001b[0m\u001b[1;36m4\u001b[0m\u001b[1;33m*\u001b[0m\u001b[0ma\u001b[0m\u001b[1;33m*\u001b[0m\u001b[0mc\u001b[0m\u001b[1;33m)\u001b[0m\u001b[1;33m)\u001b[0m\u001b[1;33m/\u001b[0m\u001b[1;33m(\u001b[0m\u001b[1;36m2\u001b[0m\u001b[1;33m*\u001b[0m\u001b[0ma\u001b[0m\u001b[1;33m)\u001b[0m\u001b[1;33m)\u001b[0m\u001b[1;33m,\u001b[0m\u001b[1;33m\u001b[0m\u001b[1;33m\u001b[0m\u001b[0m\n\u001b[0;32m      4\u001b[0m     \u001b[0mprint\u001b[0m\u001b[1;33m(\u001b[0m\u001b[1;34m\"Las posibles soluciones de la ecuación de segundo grado son x1 = %.3f\"\u001b[0m\u001b[1;33m%\u001b[0m\u001b[0mx1\u001b[0m \u001b[1;33m,\u001b[0m\u001b[1;34m\"y x2 = %.3f \"\u001b[0m\u001b[1;33m%\u001b[0m\u001b[0mx2\u001b[0m\u001b[1;33m)\u001b[0m\u001b[1;33m\u001b[0m\u001b[1;33m\u001b[0m\u001b[0m\n\u001b[0;32m      5\u001b[0m \u001b[1;33m\u001b[0m\u001b[0m\n",
      "\u001b[1;31mValueError\u001b[0m: math domain error"
     ]
    }
   ],
   "source": [
    "def ecuacion_segundo_grado(a,b,c):\n",
    "    x1 = float((-b+math.sqrt(b**2-4*a*c))/(2*a)), \n",
    "    x2 = float((-b-math.sqrt(b**2-4*a*c))/(2*a)),\n",
    "    print(\"Las posibles soluciones de la ecuación de segundo grado son x1 = %.3f\"%x1 ,\"y x2 = %.3f \"%x2)\n",
    "    \n",
    "ecuacion_segundo_grado(4,2,1)"
   ]
  },
  {
   "cell_type": "markdown",
   "metadata": {},
   "source": [
    "$ a*X^2 + b*X + c = 0$"
   ]
  },
  {
   "cell_type": "markdown",
   "metadata": {},
   "source": [
    "**2. Crea una función que lea una frase de teclado y nos diga si es o no un palíndromo (frase que se lee igual de izquierda a derecha o al revés como por ejemplo La ruta nos aportó otro paso natural.)**"
   ]
  },
  {
   "cell_type": "code",
   "execution_count": null,
   "metadata": {},
   "outputs": [],
   "source": [
    "import numpy as np\n",
    "import unidecode\n",
    "\n",
    "def palindromo(a):\n",
    "    a1 = unidecode.unidecode(a.replace(\" \",\"\").lower())\n",
    "    b1 = a1[::-1]\n",
    "    if a1 in b1:\n",
    "        print(\"La frase introducida ES palíndromo\")\n",
    "    else:\n",
    "        print(\"La frase introducida NO es palíndromo\")\n",
    "\n",
    "a = input(\"Introduce una frase: \")\n",
    "palindromo(a)"
   ]
  },
  {
   "cell_type": "markdown",
   "metadata": {},
   "source": [
    "**3. Crea un diccionario que tenga por claves los números del 1 al 10 y como valores sus raíces cuadradas**"
   ]
  },
  {
   "cell_type": "code",
   "execution_count": null,
   "metadata": {},
   "outputs": [],
   "source": [
    "import math\n",
    "\n",
    "diccionario = dict((x, round(math.sqrt(x),2)) for x in (1,2,3,4,5,6,7,8,9,10))\n",
    "\n",
    "diccionario2 = dict((x, format(math.sqrt(x),\".2f\")) for x in range(1,11))\n",
    "\n",
    "print(\"El diccionario (método 1): \", diccionario)\n",
    "print(\"El diccionario (método 2): \", diccionario2)"
   ]
  },
  {
   "cell_type": "code",
   "execution_count": null,
   "metadata": {},
   "outputs": [],
   "source": [
    "# L1 = ['Maria', 'Juan', 'Pedro']    # Lista con los nombres\n",
    "# LEdades = [14, 16, 18]   # Lista con las edades\n",
    "# diccionario = (dict(zip(L1, LEdades)))    # Creamos un diccionario fusionando con zip()\n",
    "# print (diccionario)"
   ]
  },
  {
   "cell_type": "markdown",
   "metadata": {},
   "source": [
    "**4. Crea un diccionario que tenga como claves las letras del alfabeto castellano y como valores los símbolos del código morse (los tienes todos en la Wikipedia). A continuación crea un programa que lea una frase del teclado y te la convierta a Morse utilizando el diccionario anterior.**"
   ]
  },
  {
   "cell_type": "code",
   "execution_count": null,
   "metadata": {},
   "outputs": [],
   "source": [
    "castellano = [\"A\",\"B\",\"C\",\"CH\",\"Ç\",\"D\",\"E\",\"F\",\"G\",\"H\",\"I\",\"J\",\"K\",\"L\",\"M\",\"N\",\"Ñ\",\"O\",\"P\",\"Q\",\"R\",\"S\",\"T\",\"U\",\"V\",\n",
    "              \"W\",\"X\",\"Y\",\"Z\",\"0\",\"1\",\"2\",\"3\",\"4\",\"5\",\"6\",\"7\",\"8\",\"9\",\".\",\",\",\"?\",\"!\",\" \"]\n",
    "\n",
    "# Donde la letra Ç tiene el mismo valor que el grupo de letras CH\n",
    "\n",
    "morse_init = [\"· —\",\"— · · ·\",\"— · — ·\",\"— — — —\",\"— — — —\",\"— · ·\",\"·\",\"· · — ·\",\"— — ·\",\"· · · ·\",\"· ·\",\"· — — —\",\n",
    "              \"— · —\",\"· — · ·\",\"— —\",\"— ·\",\"— — · — —\",\"— — —\",\"· — — ·\",\"— — · —\",\"· — ·\",\"· · ·\",\"—\",\"· · —\",\n",
    "              \"· · · —\",\"· — —\",\"— · · —\",\"— · · —\",\"— — · ·\",\"— — — — —\",\"· — — — —\",\"· · — — —\",\"· · · — —\",\n",
    "              \"· · · · —\",\"· · · · ·\",\"— · · · ·\",\"— — · · ·\",\"— — — · ·\",\"— — — — ·\",\"· — · — · —\",\"— · — · — —\",\n",
    "              \"· · — — · ·\",\"— — · · — —\",\"/\"]\n",
    "\n",
    "diccionario_morse = dict(zip(castellano, morse_init))\n",
    "\n",
    "frase = input(\"Introduce una frase: \")\n",
    "\n",
    "morse_f = []\n",
    "frase = frase.upper().replace(\"CH\",\"Ç\")\n",
    "for i in range(len(frase.upper())):\n",
    "    morse_f.append(diccionario_morse[frase[i].upper()])\n",
    "\n",
    "frase_morse = \"\".join(morse_f)\n",
    "print(\"La frase en código Morse es: %s\"%frase_morse)"
   ]
  },
  {
   "cell_type": "markdown",
   "metadata": {},
   "source": [
    "**5. Crea una función que dados dos diccionarios nos diga que claves están presentes en ambos.**"
   ]
  },
  {
   "cell_type": "code",
   "execution_count": null,
   "metadata": {},
   "outputs": [],
   "source": [
    "dict1 = dict((x, x*x) for x in range(1,11))\n",
    "print(\"Diccionario 1 :\", dict1)\n",
    "\n",
    "dict2 = dict((y, y+10) for y in range(5,11))\n",
    "print(\"Diccionario 2 :\", dict2)\n",
    "\n",
    "def claves_comunes(a,b):\n",
    "    list_comunes = []\n",
    "    a1=len(a)\n",
    "    b1=len(b)\n",
    "    akeys = list(a.keys())\n",
    "    bkeys = list(b.keys())\n",
    "    if a1>=b1:\n",
    "        for i in range(b1):\n",
    "            if bkeys[i] in akeys:\n",
    "                list_comunes.append(bkeys[i])\n",
    "    else:\n",
    "        for i in range(a1):\n",
    "            if akeys[i] in bkeys:\n",
    "                list_comunes.append(akeys[i])\n",
    "    return list_comunes  \n",
    "\n",
    "claves_comunes(dict1,dict2)"
   ]
  },
  {
   "cell_type": "markdown",
   "metadata": {},
   "source": [
    "**6. Crea una función que dado un número N nos diga si es primo o no (tiene que ir dividiendo por todos los números x comprendidos entre 2 y el propio número N menos uno y ver si el cociente de N/x tiene resto entero o no).**"
   ]
  },
  {
   "cell_type": "code",
   "execution_count": null,
   "metadata": {},
   "outputs": [],
   "source": [
    "import math\n",
    "\n",
    "def numero_primo(N):\n",
    "    i=2\n",
    "    while i<N:\n",
    "        if math.fmod(N,i)==0:\n",
    "            return(print(\"El número no es primo\"))\n",
    "        else:\n",
    "            i +=1\n",
    "    return(print(\"El número es primo\"))  \n",
    "\n",
    "numero_primo(101)"
   ]
  },
  {
   "cell_type": "markdown",
   "metadata": {},
   "source": [
    "**7. Investiga la documentación de la clase string y crea un método que lea una frase del teclado y escriba la primera letra de cada palabra en Mayúscula.**"
   ]
  },
  {
   "cell_type": "code",
   "execution_count": null,
   "metadata": {},
   "outputs": [],
   "source": [
    "frase = input(\"Escribe una frase (Frase inicial): \")\n",
    "lista_palabras = frase.split(\" \")\n",
    "lista_mayuscula=[]\n",
    "\n",
    "for palabras in lista_palabras:\n",
    "    lista_mayuscula.append(palabras.capitalize())\n",
    "\n",
    "frase_mayuscula = \" \".join(lista_mayuscula)\n",
    "print(\"La nueva frase es: \", frase_mayuscula)"
   ]
  },
  {
   "cell_type": "markdown",
   "metadata": {},
   "source": [
    "**8. Crea una función que calcule el máximo común divisor de dos números introducidos por el usuario por teclado.**"
   ]
  },
  {
   "cell_type": "code",
   "execution_count": null,
   "metadata": {},
   "outputs": [],
   "source": [
    "import math\n",
    "\n",
    "a = int(input(\"Introduce el primer número: \"))\n",
    "b = int(input(\"Introduce el segundo número: \"))\n",
    "\n",
    "def mcd(a,b):\n",
    "    i=1\n",
    "    max_com_div=0\n",
    "    \n",
    "    if a==b:\n",
    "        return(print(\"El máximo común divisor es: \",a))\n",
    "        \n",
    "    if a<b:\n",
    "        if math.fmod(b,a)==0:\n",
    "            return(print(\"El máximo común divisor es:\", a))\n",
    "        else:\n",
    "            while i<=a:\n",
    "                if math.fmod(a,i)==0 and math.fmod(b,i)==0:\n",
    "                    max_com_div=i\n",
    "                i +=1\n",
    "            return(print(\"El máximo común divisor es: \", max_com_div))\n",
    "    else:\n",
    "        if math.fmod(a,b)==0:\n",
    "            return(print(\"El máximo común divisor es:\", b))\n",
    "        else:\n",
    "            while i<=b:\n",
    "                if math.fmod(b,i)==0 and math.fmod(a,i)==0:\n",
    "                    max_com_div=i\n",
    "                i +=1\n",
    "            return(print(\"El máximo común divisor es: \",max_com_div))\n",
    "        \n",
    "mcd(a,b)"
   ]
  },
  {
   "cell_type": "markdown",
   "metadata": {},
   "source": [
    "**9. Investiga el Cifrado del César y crea una función que lo reproduzca en Python. Cada letra del mensaje original se desplaza tres posiciones en el alfabeto estándar. La A se convierte en la D, la B se convierte en la E, la C se convierte en la F... y cuando se acaba el alfabeto se le vuelve a dar la vuelta: la X se convierte en la A, la Y en la B y la X en la C. Los números no sufren ninguna modificación.**"
   ]
  },
  {
   "cell_type": "code",
   "execution_count": null,
   "metadata": {},
   "outputs": [],
   "source": [
    "frase = input(\"Introduce una frase: \")\n",
    "\n",
    "alfabeto_estandar = [\"A\",\"B\",\"C\",\"D\",\"E\",\"F\",\"G\",\"H\",\"I\",\"J\",\"K\",\"L\",\"M\",\"N\",\"Ñ\",\"O\",\"P\",\"Q\",\"R\",\"S\",\"T\",\"U\",\"V\",\"W\",\n",
    "                     \"X\",\"Y\",\"Z\",\"0\",\"1\",\"2\",\"3\",\"4\",\"5\",\"6\",\"7\",\"8\",\"9\",\" \",\"?\",\",\",\".\",\"!\"]\n",
    "\n",
    "alfabeto_Cesar = [\"D\",\"E\",\"F\",\"G\",\"H\",\"I\",\"J\",\"K\",\"L\",\"M\",\"N\",\"Ñ\",\"O\",\"P\",\"Q\",\"R\",\"S\",\"T\",\"U\",\"V\",\"W\",\"X\",\"Y\",\"Z\",\"A\",\n",
    "                  \"B\",\"C\",\"0\",\"1\",\"2\",\"3\",\"4\",\"5\",\"6\",\"7\",\"8\",\"9\",\" \",\"?\",\",\",\".\",\"!\"]\n",
    "\n",
    "def cifrado_cesar(a):\n",
    "    lista_cesar = []\n",
    "    i=0\n",
    "    while i<len(a):\n",
    "        indice = alfabeto_estandar.index(a[i].upper())\n",
    "        lista_cesar.append(alfabeto_Cesar[indice])\n",
    "        i+=1\n",
    "    frase_cesar = \"\".join(lista_cesar)\n",
    "    print(frase_cesar)\n",
    "    \n",
    "cifrado_cesar(frase)"
   ]
  },
  {
   "cell_type": "code",
   "execution_count": null,
   "metadata": {},
   "outputs": [],
   "source": [
    "# dict_cesar = dict(zip(alfabeto_estandar,alfabeto_Cesar))\n",
    "# dict_cesar"
   ]
  },
  {
   "cell_type": "markdown",
   "metadata": {},
   "source": [
    "**10. Dado una lista de nombres de persona, escribe un algoritmo que los ordene de tres formas diferentes:**\n",
    "\n",
    "a. De forma alfabética\n",
    "\n",
    "b. De forma alfabética invertida\n",
    "\n",
    "c. De nombre más corto al más largo."
   ]
  },
  {
   "cell_type": "markdown",
   "metadata": {},
   "source": [
    "**A. De forma alfabética**"
   ]
  },
  {
   "cell_type": "code",
   "execution_count": null,
   "metadata": {},
   "outputs": [],
   "source": [
    "# Lista dada de nombres\n",
    "\n",
    "nombres = [\"Juan\",\"Beatriz\",\"Ana\",\"Rebe\",\"Jose\",\"Diego\",\"jose Manuel\"]\n",
    "\n",
    "def invertir(lista):\n",
    "    return lista[::-1]\n",
    "\n",
    "def lista_limpia(lista):\n",
    "    for i in range(len(lista)):    \n",
    "        lista[i]=lista[i].strip()\n",
    "    return lista\n",
    "\n",
    "nombres.sort(key=invertir)\n",
    "a = sorted(nombres, key=str.lower)\n",
    "b = sorted(nombres, key=len)\n",
    "print(\"Los nombres ordenados de forma alfabética: \",a)\n",
    "print(\"Los nombres ordenados de forma alfabética invertida: \",nombres)\n",
    "print(\"Los nombre ordenados de nombre más corto al más largo: \",b)"
   ]
  },
  {
   "cell_type": "code",
   "execution_count": null,
   "metadata": {},
   "outputs": [],
   "source": [
    "# Lista de nombres introducidos por el usuarios por teclado\n",
    "\n",
    "nombres_1 = input(\"Introduce una lista de nombres, separados por coma: \")\n",
    "nombres2 = list(nombres_1.split(\",\"))\n",
    "\n",
    "def lista_limpia(lista):\n",
    "    for i in range(len(lista)):    \n",
    "        lista[i]=lista[i].strip()\n",
    "    return lista\n",
    "\n",
    "lista_limpia(nombres2)\n",
    "\n",
    "nombres2.sort(key=invertir)\n",
    "a = sorted(nombres2, key=str.lower)\n",
    "b = sorted(nombres2, key=len)\n",
    "print(\"Los nombres ordenados de forma alfabética: \",a)\n",
    "print(\"Los nombres ordenados de forma alfabética invertida: \",nombres2)\n",
    "print(\"Los nombre ordenados de nombre más corto al más largo: \",b)"
   ]
  },
  {
   "cell_type": "code",
   "execution_count": null,
   "metadata": {},
   "outputs": [],
   "source": []
  }
 ],
 "metadata": {
  "kernelspec": {
   "display_name": "Python 3",
   "language": "python",
   "name": "python3"
  },
  "language_info": {
   "codemirror_mode": {
    "name": "ipython",
    "version": 3
   },
   "file_extension": ".py",
   "mimetype": "text/x-python",
   "name": "python",
   "nbconvert_exporter": "python",
   "pygments_lexer": "ipython3",
   "version": "3.7.6"
  }
 },
 "nbformat": 4,
 "nbformat_minor": 4
}
